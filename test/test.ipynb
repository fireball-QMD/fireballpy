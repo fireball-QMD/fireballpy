{
 "cells": [
  {
   "cell_type": "code",
   "execution_count": 11,
   "id": "c163131f",
   "metadata": {},
   "outputs": [
    {
     "name": "stdout",
     "output_type": "stream",
     "text": [
      "12.0\n"
     ]
    }
   ],
   "source": [
    "import sys\n",
    "sys.path.append(\"../bin\")\n",
    "import f2py\n",
    "\n",
    "# Configura los valores de num1 y num2\n",
    "f2py.f90.variables.num1 = 5.0\n",
    "f2py.f90.variables.num2 = 7.0\n",
    "\n",
    "# Llama a la subrutina suma\n",
    "f2py.f90.suma()\n",
    "\n",
    "# Accede al resultado desde Python\n",
    "print(f2py.f90.variables.resultado)"
   ]
  },
  {
   "cell_type": "code",
   "execution_count": null,
   "id": "3eb8afcd",
   "metadata": {},
   "outputs": [],
   "source": []
  }
 ],
 "metadata": {
  "kernelspec": {
   "display_name": "venv3.7-intel",
   "language": "python",
   "name": "venv3.7-intel"
  },
  "language_info": {
   "codemirror_mode": {
    "name": "ipython",
    "version": 3
   },
   "file_extension": ".py",
   "mimetype": "text/x-python",
   "name": "python",
   "nbconvert_exporter": "python",
   "pygments_lexer": "ipython3",
   "version": "3.7.9"
  }
 },
 "nbformat": 4,
 "nbformat_minor": 5
}
