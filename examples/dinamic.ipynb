{
 "cells": [
  {
   "cell_type": "code",
   "execution_count": 14,
   "id": "c163131f",
   "metadata": {},
   "outputs": [],
   "source": [
    "import sys\n",
    "import numpy as np\n",
    "sys.path.append(\"..\")\n",
    "from fireballpy import Fireball\n",
    "from ase import Atoms\n",
    "from ase.visualize import view"
   ]
  },
  {
   "cell_type": "code",
   "execution_count": 15,
   "id": "8daafb4e",
   "metadata": {},
   "outputs": [],
   "source": [
    "atoms = Atoms(symbols=['C', 'H', 'H', 'H', 'H'],\n",
    "            positions=[( 0.0000, 0.0000, 0.0000),\n",
    "                       ( 0.6533, 0.6533, 0.6533),\n",
    "                       (-0.6533, 0.6533, 0.6533),\n",
    "                       ( 0.6533, -0.6533, 0.6533),\n",
    "                       ( 0.6533, 0.6533, -0.6533)])"
   ]
  },
  {
   "cell_type": "code",
   "execution_count": 16,
   "id": "ca8a96d2",
   "metadata": {},
   "outputs": [],
   "source": [
    "atoms.calc = Fireball(charges_method='mdp', options='molecule')"
   ]
  },
  {
   "cell_type": "code",
   "execution_count": 18,
   "id": "af120d21",
   "metadata": {},
   "outputs": [
    {
     "data": {
      "text/html": [
       "<html>\n",
       "\n",
       " <head>\n",
       "\n",
       "  <title>ASE atomic visualization</title>\n",
       "\n",
       "  <link rel=\"stylesheet\" type=\"text/css\"\n",
       "\n",
       "   href=\"https://www.x3dom.org/x3dom/release/x3dom.css\">\n",
       "\n",
       "  </link>\n",
       "\n",
       "  <script type=\"text/javascript\"\n",
       "\n",
       "   src=\"https://www.x3dom.org/x3dom/release/x3dom.js\">\n",
       "\n",
       "  </script>\n",
       "\n",
       " </head>\n",
       "\n",
       " <body>\n",
       "\n",
       "  <X3D>\n",
       "\n",
       "   <Scene>\n",
       "\n",
       "    <Transform translation=\"0.00 0.00 0.00\">\n",
       "\n",
       "     <Shape>\n",
       "\n",
       "      <Appearance>\n",
       "\n",
       "       <Material diffuseColor=\"0.565 0.565 0.565\" specularColor=\"0.5 0.5 0.5\">\n",
       "\n",
       "       </Material>\n",
       "\n",
       "      </Appearance>\n",
       "\n",
       "      <Sphere radius=\"0.76\">\n",
       "\n",
       "      </Sphere>\n",
       "\n",
       "     </Shape>\n",
       "\n",
       "    </Transform>\n",
       "\n",
       "    <Transform translation=\"0.65 0.65 0.65\">\n",
       "\n",
       "     <Shape>\n",
       "\n",
       "      <Appearance>\n",
       "\n",
       "       <Material diffuseColor=\"1.000 1.000 1.000\" specularColor=\"0.5 0.5 0.5\">\n",
       "\n",
       "       </Material>\n",
       "\n",
       "      </Appearance>\n",
       "\n",
       "      <Sphere radius=\"0.31\">\n",
       "\n",
       "      </Sphere>\n",
       "\n",
       "     </Shape>\n",
       "\n",
       "    </Transform>\n",
       "\n",
       "    <Transform translation=\"-0.65 0.65 0.65\">\n",
       "\n",
       "     <Shape>\n",
       "\n",
       "      <Appearance>\n",
       "\n",
       "       <Material diffuseColor=\"1.000 1.000 1.000\" specularColor=\"0.5 0.5 0.5\">\n",
       "\n",
       "       </Material>\n",
       "\n",
       "      </Appearance>\n",
       "\n",
       "      <Sphere radius=\"0.31\">\n",
       "\n",
       "      </Sphere>\n",
       "\n",
       "     </Shape>\n",
       "\n",
       "    </Transform>\n",
       "\n",
       "    <Transform translation=\"0.65 -0.65 0.65\">\n",
       "\n",
       "     <Shape>\n",
       "\n",
       "      <Appearance>\n",
       "\n",
       "       <Material diffuseColor=\"1.000 1.000 1.000\" specularColor=\"0.5 0.5 0.5\">\n",
       "\n",
       "       </Material>\n",
       "\n",
       "      </Appearance>\n",
       "\n",
       "      <Sphere radius=\"0.31\">\n",
       "\n",
       "      </Sphere>\n",
       "\n",
       "     </Shape>\n",
       "\n",
       "    </Transform>\n",
       "\n",
       "    <Transform translation=\"0.65 0.65 -0.65\">\n",
       "\n",
       "     <Shape>\n",
       "\n",
       "      <Appearance>\n",
       "\n",
       "       <Material diffuseColor=\"1.000 1.000 1.000\" specularColor=\"0.5 0.5 0.5\">\n",
       "\n",
       "       </Material>\n",
       "\n",
       "      </Appearance>\n",
       "\n",
       "      <Sphere radius=\"0.31\">\n",
       "\n",
       "      </Sphere>\n",
       "\n",
       "     </Shape>\n",
       "\n",
       "    </Transform>\n",
       "\n",
       "   </Scene>\n",
       "\n",
       "  </X3D>\n",
       "\n",
       " </body>\n",
       "\n",
       "</html>\n",
       "\n"
      ],
      "text/plain": [
       "<IPython.core.display.HTML object>"
      ]
     },
     "execution_count": 18,
     "metadata": {},
     "output_type": "execute_result"
    }
   ],
   "source": [
    "view(atoms, viewer='x3d')"
   ]
  },
  {
   "cell_type": "code",
   "execution_count": 19,
   "id": "998f6610",
   "metadata": {},
   "outputs": [
    {
     "data": {
      "text/plain": [
       "-211.70762599440044"
      ]
     },
     "execution_count": 19,
     "metadata": {},
     "output_type": "execute_result"
    }
   ],
   "source": [
    "atoms.get_potential_energy()"
   ]
  },
  {
   "cell_type": "code",
   "execution_count": 20,
   "id": "8e70a78a",
   "metadata": {},
   "outputs": [
    {
     "data": {
      "text/plain": [
       "True"
      ]
     },
     "execution_count": 20,
     "metadata": {},
     "output_type": "execute_result"
    }
   ],
   "source": [
    "from ase.optimize import LBFGS\n",
    "opt = LBFGS(atoms, trajectory='opt.traj', logfile='opt.log')\n",
    "opt.run(fmax=0.05)"
   ]
  },
  {
   "cell_type": "code",
   "execution_count": 21,
   "id": "a332fc13",
   "metadata": {},
   "outputs": [
    {
     "ename": "NameError",
     "evalue": "name 'ase' is not defined",
     "output_type": "error",
     "traceback": [
      "\u001b[0;31m---------------------------------------------------------------------------\u001b[0m",
      "\u001b[0;31mNameError\u001b[0m                                 Traceback (most recent call last)",
      "Cell \u001b[0;32mIn[21], line 1\u001b[0m\n\u001b[0;32m----> 1\u001b[0m read_traj \u001b[38;5;241m=\u001b[39m \u001b[43mase\u001b[49m\u001b[38;5;241m.\u001b[39mio\u001b[38;5;241m.\u001b[39mtrajectory\u001b[38;5;241m.\u001b[39mTrajectoryReader(traj_file)\n\u001b[1;32m      2\u001b[0m view(read_traj)\n",
      "\u001b[0;31mNameError\u001b[0m: name 'ase' is not defined"
     ]
    }
   ],
   "source": [
    "read_traj = ase.io.trajectory.TrajectoryReader(traj_file)\n",
    "view(read_traj)"
   ]
  },
  {
   "cell_type": "code",
   "execution_count": 2,
   "id": "0e790731",
   "metadata": {},
   "outputs": [
    {
     "name": "stdout",
     "output_type": "stream",
     "text": [
      "WARNING: pip is being invoked by an old script wrapper. This will fail in a future version of pip.\n",
      "Please see https://github.com/pypa/pip/issues/5599 for advice on fixing the underlying issue.\n",
      "To avoid this problem you can invoke Python with '-m pip' instead of running pip directly.\n",
      "Defaulting to user installation because normal site-packages is not writeable\n",
      "Requirement already satisfied: nglview in /home/dani/.local/lib/python3.7/site-packages (3.0.8)\n",
      "Requirement already satisfied: numpy in /opt/intel/oneapi/intelpython/python3.7/lib/python3.7/site-packages (from nglview) (1.20.1)\n",
      "Requirement already satisfied: ipywidgets>=7 in /opt/intel/oneapi/intelpython/python3.7/lib/python3.7/site-packages (from nglview) (7.7.0)\n",
      "Requirement already satisfied: jupyterlab-widgets in /opt/intel/oneapi/intelpython/python3.7/lib/python3.7/site-packages (from nglview) (1.1.0)\n",
      "Requirement already satisfied: ipython>=4.0.0 in /opt/intel/oneapi/intelpython/python3.7/lib/python3.7/site-packages (from ipywidgets>=7->nglview) (7.34.0)\n",
      "Requirement already satisfied: nbformat>=4.2.0 in /opt/intel/oneapi/intelpython/python3.7/lib/python3.7/site-packages (from ipywidgets>=7->nglview) (5.4.0)\n",
      "Requirement already satisfied: widgetsnbextension~=3.6.0 in /opt/intel/oneapi/intelpython/python3.7/lib/python3.7/site-packages (from ipywidgets>=7->nglview) (3.6.0)\n",
      "Requirement already satisfied: ipython-genutils~=0.2.0 in /opt/intel/oneapi/intelpython/python3.7/lib/python3.7/site-packages (from ipywidgets>=7->nglview) (0.2.0)\n",
      "Requirement already satisfied: traitlets>=4.3.1 in /opt/intel/oneapi/intelpython/python3.7/lib/python3.7/site-packages (from ipywidgets>=7->nglview) (5.2.1.post0)\n",
      "Requirement already satisfied: ipykernel>=4.5.1 in /opt/intel/oneapi/intelpython/python3.7/lib/python3.7/site-packages (from ipywidgets>=7->nglview) (6.13.0)\n",
      "Requirement already satisfied: psutil in /opt/intel/oneapi/intelpython/python3.7/lib/python3.7/site-packages (from ipykernel>=4.5.1->ipywidgets>=7->nglview) (5.9.1)\n",
      "Requirement already satisfied: matplotlib-inline>=0.1 in /opt/intel/oneapi/intelpython/python3.7/lib/python3.7/site-packages (from ipykernel>=4.5.1->ipywidgets>=7->nglview) (0.1.3)\n",
      "Requirement already satisfied: jupyter-client>=6.1.12 in /opt/intel/oneapi/intelpython/python3.7/lib/python3.7/site-packages (from ipykernel>=4.5.1->ipywidgets>=7->nglview) (7.3.1)\n",
      "Requirement already satisfied: tornado>=6.1 in /opt/intel/oneapi/intelpython/python3.7/lib/python3.7/site-packages (from ipykernel>=4.5.1->ipywidgets>=7->nglview) (6.1)\n",
      "Requirement already satisfied: packaging in /opt/intel/oneapi/intelpython/python3.7/lib/python3.7/site-packages (from ipykernel>=4.5.1->ipywidgets>=7->nglview) (21.3)\n",
      "Requirement already satisfied: nest-asyncio in /opt/intel/oneapi/intelpython/python3.7/lib/python3.7/site-packages (from ipykernel>=4.5.1->ipywidgets>=7->nglview) (1.5.5)\n",
      "Requirement already satisfied: debugpy>=1.0 in /opt/intel/oneapi/intelpython/python3.7/lib/python3.7/site-packages (from ipykernel>=4.5.1->ipywidgets>=7->nglview) (1.6.0)\n",
      "Requirement already satisfied: decorator in /opt/intel/oneapi/intelpython/python3.7/lib/python3.7/site-packages (from ipython>=4.0.0->ipywidgets>=7->nglview) (5.1.1)\n",
      "Requirement already satisfied: setuptools>=18.5 in /opt/intel/oneapi/intelpython/python3.7/lib/python3.7/site-packages (from ipython>=4.0.0->ipywidgets>=7->nglview) (51.1.2.post20210203)\n",
      "Requirement already satisfied: jedi>=0.16 in /opt/intel/oneapi/intelpython/python3.7/lib/python3.7/site-packages (from ipython>=4.0.0->ipywidgets>=7->nglview) (0.18.1)\n",
      "Requirement already satisfied: pexpect>4.3 in /opt/intel/oneapi/intelpython/python3.7/lib/python3.7/site-packages (from ipython>=4.0.0->ipywidgets>=7->nglview) (4.8.0)\n",
      "Requirement already satisfied: prompt-toolkit!=3.0.0,!=3.0.1,<3.1.0,>=2.0.0 in /opt/intel/oneapi/intelpython/python3.7/lib/python3.7/site-packages (from ipython>=4.0.0->ipywidgets>=7->nglview) (3.0.29)\n",
      "Requirement already satisfied: pygments in /opt/intel/oneapi/intelpython/python3.7/lib/python3.7/site-packages (from ipython>=4.0.0->ipywidgets>=7->nglview) (2.12.0)\n",
      "Requirement already satisfied: pickleshare in /opt/intel/oneapi/intelpython/python3.7/lib/python3.7/site-packages (from ipython>=4.0.0->ipywidgets>=7->nglview) (0.7.5)\n",
      "Requirement already satisfied: backcall in /opt/intel/oneapi/intelpython/python3.7/lib/python3.7/site-packages (from ipython>=4.0.0->ipywidgets>=7->nglview) (0.2.0)\n",
      "Requirement already satisfied: parso<0.9.0,>=0.8.0 in /opt/intel/oneapi/intelpython/python3.7/lib/python3.7/site-packages (from jedi>=0.16->ipython>=4.0.0->ipywidgets>=7->nglview) (0.8.3)\n",
      "Requirement already satisfied: pyzmq>=22.3 in /opt/intel/oneapi/intelpython/python3.7/lib/python3.7/site-packages (from jupyter-client>=6.1.12->ipykernel>=4.5.1->ipywidgets>=7->nglview) (23.0.0)\n",
      "Requirement already satisfied: python-dateutil>=2.8.2 in /opt/intel/oneapi/intelpython/python3.7/lib/python3.7/site-packages (from jupyter-client>=6.1.12->ipykernel>=4.5.1->ipywidgets>=7->nglview) (2.8.2)\n",
      "Requirement already satisfied: jupyter-core>=4.9.2 in /opt/intel/oneapi/intelpython/python3.7/lib/python3.7/site-packages (from jupyter-client>=6.1.12->ipykernel>=4.5.1->ipywidgets>=7->nglview) (4.10.0)\n",
      "Requirement already satisfied: entrypoints in /opt/intel/oneapi/intelpython/python3.7/lib/python3.7/site-packages (from jupyter-client>=6.1.12->ipykernel>=4.5.1->ipywidgets>=7->nglview) (0.4)\n",
      "Requirement already satisfied: fastjsonschema in /opt/intel/oneapi/intelpython/python3.7/lib/python3.7/site-packages (from nbformat>=4.2.0->ipywidgets>=7->nglview) (2.15.3)\n",
      "Requirement already satisfied: jsonschema>=2.6 in /opt/intel/oneapi/intelpython/python3.7/lib/python3.7/site-packages (from nbformat>=4.2.0->ipywidgets>=7->nglview) (4.5.1)\n",
      "Requirement already satisfied: attrs>=17.4.0 in /opt/intel/oneapi/intelpython/python3.7/lib/python3.7/site-packages (from jsonschema>=2.6->nbformat>=4.2.0->ipywidgets>=7->nglview) (21.4.0)\n",
      "Requirement already satisfied: pyrsistent!=0.17.0,!=0.17.1,!=0.17.2,>=0.14.0 in /opt/intel/oneapi/intelpython/python3.7/lib/python3.7/site-packages (from jsonschema>=2.6->nbformat>=4.2.0->ipywidgets>=7->nglview) (0.18.1)\n",
      "Requirement already satisfied: importlib-resources>=1.4.0 in /opt/intel/oneapi/intelpython/python3.7/lib/python3.7/site-packages (from jsonschema>=2.6->nbformat>=4.2.0->ipywidgets>=7->nglview) (5.7.1)\n",
      "Requirement already satisfied: importlib-metadata in /opt/intel/oneapi/intelpython/python3.7/lib/python3.7/site-packages (from jsonschema>=2.6->nbformat>=4.2.0->ipywidgets>=7->nglview) (4.11.4)\n",
      "Requirement already satisfied: typing-extensions in /opt/intel/oneapi/intelpython/python3.7/lib/python3.7/site-packages (from jsonschema>=2.6->nbformat>=4.2.0->ipywidgets>=7->nglview) (4.2.0)\n",
      "Requirement already satisfied: zipp>=3.1.0 in /opt/intel/oneapi/intelpython/python3.7/lib/python3.7/site-packages (from importlib-resources>=1.4.0->jsonschema>=2.6->nbformat>=4.2.0->ipywidgets>=7->nglview) (3.8.0)\n",
      "Requirement already satisfied: ptyprocess>=0.5 in /opt/intel/oneapi/intelpython/python3.7/lib/python3.7/site-packages (from pexpect>4.3->ipython>=4.0.0->ipywidgets>=7->nglview) (0.7.0)\n",
      "Requirement already satisfied: wcwidth in /opt/intel/oneapi/intelpython/python3.7/lib/python3.7/site-packages (from prompt-toolkit!=3.0.0,!=3.0.1,<3.1.0,>=2.0.0->ipython>=4.0.0->ipywidgets>=7->nglview) (0.2.5)\n",
      "Requirement already satisfied: six>=1.5 in /opt/intel/oneapi/intelpython/python3.7/lib/python3.7/site-packages (from python-dateutil>=2.8.2->jupyter-client>=6.1.12->ipykernel>=4.5.1->ipywidgets>=7->nglview) (1.15.0)\n",
      "Requirement already satisfied: notebook>=4.4.1 in /opt/intel/oneapi/intelpython/python3.7/lib/python3.7/site-packages (from widgetsnbextension~=3.6.0->ipywidgets>=7->nglview) (6.4.11)\n",
      "Requirement already satisfied: argon2-cffi in /opt/intel/oneapi/intelpython/python3.7/lib/python3.7/site-packages (from notebook>=4.4.1->widgetsnbextension~=3.6.0->ipywidgets>=7->nglview) (21.3.0)\n",
      "Requirement already satisfied: jinja2 in /opt/intel/oneapi/intelpython/python3.7/lib/python3.7/site-packages (from notebook>=4.4.1->widgetsnbextension~=3.6.0->ipywidgets>=7->nglview) (3.1.2)\n",
      "Requirement already satisfied: nbconvert>=5 in /opt/intel/oneapi/intelpython/python3.7/lib/python3.7/site-packages (from notebook>=4.4.1->widgetsnbextension~=3.6.0->ipywidgets>=7->nglview) (6.5.0)\n",
      "Requirement already satisfied: Send2Trash>=1.8.0 in /opt/intel/oneapi/intelpython/python3.7/lib/python3.7/site-packages (from notebook>=4.4.1->widgetsnbextension~=3.6.0->ipywidgets>=7->nglview) (1.8.0)\n",
      "Requirement already satisfied: prometheus-client in /opt/intel/oneapi/intelpython/python3.7/lib/python3.7/site-packages (from notebook>=4.4.1->widgetsnbextension~=3.6.0->ipywidgets>=7->nglview) (0.14.1)\n",
      "Requirement already satisfied: terminado>=0.8.3 in /opt/intel/oneapi/intelpython/python3.7/lib/python3.7/site-packages (from notebook>=4.4.1->widgetsnbextension~=3.6.0->ipywidgets>=7->nglview) (0.15.0)\n",
      "Requirement already satisfied: beautifulsoup4 in /opt/intel/oneapi/intelpython/python3.7/lib/python3.7/site-packages (from nbconvert>=5->notebook>=4.4.1->widgetsnbextension~=3.6.0->ipywidgets>=7->nglview) (4.11.1)\n",
      "Requirement already satisfied: pandocfilters>=1.4.1 in /opt/intel/oneapi/intelpython/python3.7/lib/python3.7/site-packages (from nbconvert>=5->notebook>=4.4.1->widgetsnbextension~=3.6.0->ipywidgets>=7->nglview) (1.5.0)\n",
      "Requirement already satisfied: jupyterlab-pygments in /opt/intel/oneapi/intelpython/python3.7/lib/python3.7/site-packages (from nbconvert>=5->notebook>=4.4.1->widgetsnbextension~=3.6.0->ipywidgets>=7->nglview) (0.2.2)\n",
      "Requirement already satisfied: defusedxml in /opt/intel/oneapi/intelpython/python3.7/lib/python3.7/site-packages (from nbconvert>=5->notebook>=4.4.1->widgetsnbextension~=3.6.0->ipywidgets>=7->nglview) (0.7.1)\n",
      "Requirement already satisfied: MarkupSafe>=2.0 in /opt/intel/oneapi/intelpython/python3.7/lib/python3.7/site-packages (from nbconvert>=5->notebook>=4.4.1->widgetsnbextension~=3.6.0->ipywidgets>=7->nglview) (2.1.1)\n",
      "Requirement already satisfied: bleach in /opt/intel/oneapi/intelpython/python3.7/lib/python3.7/site-packages (from nbconvert>=5->notebook>=4.4.1->widgetsnbextension~=3.6.0->ipywidgets>=7->nglview) (5.0.0)\n",
      "Requirement already satisfied: mistune<2,>=0.8.1 in /opt/intel/oneapi/intelpython/python3.7/lib/python3.7/site-packages (from nbconvert>=5->notebook>=4.4.1->widgetsnbextension~=3.6.0->ipywidgets>=7->nglview) (0.8.4)\n",
      "Requirement already satisfied: tinycss2 in /opt/intel/oneapi/intelpython/python3.7/lib/python3.7/site-packages (from nbconvert>=5->notebook>=4.4.1->widgetsnbextension~=3.6.0->ipywidgets>=7->nglview) (1.1.1)\n",
      "Requirement already satisfied: nbclient>=0.5.0 in /opt/intel/oneapi/intelpython/python3.7/lib/python3.7/site-packages (from nbconvert>=5->notebook>=4.4.1->widgetsnbextension~=3.6.0->ipywidgets>=7->nglview) (0.6.3)\n"
     ]
    },
    {
     "name": "stdout",
     "output_type": "stream",
     "text": [
      "Requirement already satisfied: argon2-cffi-bindings in /opt/intel/oneapi/intelpython/python3.7/lib/python3.7/site-packages (from argon2-cffi->notebook>=4.4.1->widgetsnbextension~=3.6.0->ipywidgets>=7->nglview) (21.2.0)\n",
      "Requirement already satisfied: cffi>=1.0.1 in /opt/intel/oneapi/intelpython/python3.7/lib/python3.7/site-packages (from argon2-cffi-bindings->argon2-cffi->notebook>=4.4.1->widgetsnbextension~=3.6.0->ipywidgets>=7->nglview) (1.14.4)\n",
      "Requirement already satisfied: pycparser in /opt/intel/oneapi/intelpython/python3.7/lib/python3.7/site-packages (from cffi>=1.0.1->argon2-cffi-bindings->argon2-cffi->notebook>=4.4.1->widgetsnbextension~=3.6.0->ipywidgets>=7->nglview) (2.20)\n",
      "Requirement already satisfied: soupsieve>1.2 in /opt/intel/oneapi/intelpython/python3.7/lib/python3.7/site-packages (from beautifulsoup4->nbconvert>=5->notebook>=4.4.1->widgetsnbextension~=3.6.0->ipywidgets>=7->nglview) (2.3.2.post1)\n",
      "Requirement already satisfied: webencodings in /opt/intel/oneapi/intelpython/python3.7/lib/python3.7/site-packages (from bleach->nbconvert>=5->notebook>=4.4.1->widgetsnbextension~=3.6.0->ipywidgets>=7->nglview) (0.5.1)\n",
      "Requirement already satisfied: pyparsing!=3.0.5,>=2.0.2 in /opt/intel/oneapi/intelpython/python3.7/lib/python3.7/site-packages (from packaging->ipykernel>=4.5.1->ipywidgets>=7->nglview) (2.4.7)\n"
     ]
    },
    {
     "ename": "ModuleNotFoundError",
     "evalue": "No module named 'nglview'",
     "output_type": "error",
     "traceback": [
      "\u001b[0;31m---------------------------------------------------------------------------\u001b[0m",
      "\u001b[0;31mModuleNotFoundError\u001b[0m                       Traceback (most recent call last)",
      "Cell \u001b[0;32mIn[2], line 2\u001b[0m\n\u001b[1;32m      1\u001b[0m get_ipython()\u001b[38;5;241m.\u001b[39msystem(\u001b[38;5;124m'\u001b[39m\u001b[38;5;124mpip install nglview\u001b[39m\u001b[38;5;124m'\u001b[39m)\n\u001b[0;32m----> 2\u001b[0m \u001b[38;5;28;01mimport\u001b[39;00m \u001b[38;5;21;01mnglview\u001b[39;00m \u001b[38;5;28;01mas\u001b[39;00m \u001b[38;5;21;01mnv\u001b[39;00m\n",
      "\u001b[0;31mModuleNotFoundError\u001b[0m: No module named 'nglview'"
     ]
    }
   ],
   "source": [
    "!pip install nglview\n",
    "import nglview as nv\n"
   ]
  },
  {
   "cell_type": "code",
   "execution_count": 6,
   "id": "9ef40a25",
   "metadata": {},
   "outputs": [
    {
     "ename": "ModuleNotFoundError",
     "evalue": "No module named 'pytraj'",
     "output_type": "error",
     "traceback": [
      "\u001b[0;31m---------------------------------------------------------------------------\u001b[0m",
      "\u001b[0;31mModuleNotFoundError\u001b[0m                       Traceback (most recent call last)",
      "Cell \u001b[0;32mIn[6], line 1\u001b[0m\n\u001b[0;32m----> 1\u001b[0m \u001b[38;5;28;01mimport\u001b[39;00m \u001b[38;5;21;01mpytraj\u001b[39;00m \u001b[38;5;28;01mas\u001b[39;00m \u001b[38;5;21;01mpt\u001b[39;00m\n\u001b[1;32m      2\u001b[0m traj \u001b[38;5;241m=\u001b[39m pt\u001b[38;5;241m.\u001b[39mload(\u001b[38;5;124m'\u001b[39m\u001b[38;5;124mopt.traj\u001b[39m\u001b[38;5;124m'\u001b[39m)\n",
      "\u001b[0;31mModuleNotFoundError\u001b[0m: No module named 'pytraj'"
     ]
    }
   ],
   "source": [
    "import pytraj as pt\n",
    "traj = pt.load('opt.traj')"
   ]
  }
 ],
 "metadata": {
  "kernelspec": {
   "display_name": "python_fireballpy",
   "language": "python",
   "name": "python_fireballpy"
  },
  "language_info": {
   "codemirror_mode": {
    "name": "ipython",
    "version": 3
   },
   "file_extension": ".py",
   "mimetype": "text/x-python",
   "name": "python",
   "nbconvert_exporter": "python",
   "pygments_lexer": "ipython3",
   "version": "3.8.10"
  }
 },
 "nbformat": 4,
 "nbformat_minor": 5
}
