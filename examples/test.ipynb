{
 "cells": [
  {
   "cell_type": "code",
   "execution_count": 1,
   "id": "c163131f",
   "metadata": {},
   "outputs": [],
   "source": [
    "%pip install ase\n",
    "import sys\n",
    "import os\n",
    "from fireballpy import Fireball\n",
    "from ase.io import read"
   ]
  },
  {
   "cell_type": "code",
   "execution_count": 2,
   "id": "8daafb4e",
   "metadata": {},
   "outputs": [],
   "source": [
    "atoms = read(\"input.xyz\")\n",
    "atoms.calc = Fireball(fdata_path=\"Fdata_HC/\")"
   ]
  },
  {
   "cell_type": "code",
   "execution_count": 3,
   "id": "ca8a96d2",
   "metadata": {},
   "outputs": [
    {
     "name": "stdout",
     "output_type": "stream",
     "text": [
      "-214.91729736328125\n"
     ]
    }
   ],
   "source": [
    "ETOT = atoms.get_potential_energy()\n",
    "print(ETOT)"
   ]
  },
  {
   "cell_type": "code",
   "execution_count": 4,
   "id": "3eb8afcd",
   "metadata": {},
   "outputs": [
    {
     "name": "stdout",
     "output_type": "stream",
     "text": [
      "      1.06487367    2.78622435    0.19226561\n",
      "      0.92242015    0.02417989\n",
      "      0.99328238    0.01006288\n",
      "      0.99328240    0.01006291\n",
      "      0.99328281    0.01006295\n"
     ]
    },
    {
     "data": {
      "text/plain": [
       "array([[ 3.36838359,  3.36838192,  3.36838809],\n",
       "       [ 1.6870016 ,  1.68700188,  1.68699881],\n",
       "       [-1.86120502, -1.59708746, -1.59709139],\n",
       "       [-1.59708752, -1.86120253, -1.59709472],\n",
       "       [-1.59709266, -1.59709381, -1.8612008 ]])"
      ]
     },
     "execution_count": 4,
     "metadata": {},
     "output_type": "execute_result"
    },
    {
     "name": "stdout",
     "output_type": "stream",
     "text": [
      "  The grand total force (eV/A): \n",
      "   iatom =    1 ftot      =   0.336838E+01  0.336838E+01  0.336839E+01\n",
      "   iatom =    2 ftot      =   0.168700E+01  0.168700E+01  0.168700E+01\n",
      "   iatom =    3 ftot      =  -0.186121E+01 -0.159709E+01 -0.159709E+01\n",
      "   iatom =    4 ftot      =  -0.159709E+01 -0.186120E+01 -0.159709E+01\n",
      "   iatom =    5 ftot      =  -0.159709E+01 -0.159709E+01 -0.186120E+01\n"
     ]
    }
   ],
   "source": [
    "atoms.get_charges()\n",
    "atoms.get_potential_energy()\n",
    "atoms.get_forces()\n"
   ]
  },
  {
   "cell_type": "code",
   "execution_count": null,
   "id": "69aea174",
   "metadata": {},
   "outputs": [],
   "source": [
    "atoms.get_forces()"
   ]
  },
  {
   "cell_type": "code",
   "execution_count": null,
   "id": "1d400e70",
   "metadata": {},
   "outputs": [],
   "source": []
  },
  {
   "cell_type": "code",
   "execution_count": 18,
   "id": "075bfb02",
   "metadata": {},
   "outputs": [],
   "source": [
    "import numpy as np\n",
    "n=10\n",
    "foces = np.zeros((n,3 ))\n",
    "foces[5,1]=10.0"
   ]
  },
  {
   "cell_type": "code",
   "execution_count": 19,
   "id": "a1cab453",
   "metadata": {},
   "outputs": [
    {
     "name": "stdout",
     "output_type": "stream",
     "text": [
      "[[ 0.  0.  0.]\n",
      " [ 0.  0.  0.]\n",
      " [ 0.  0.  0.]\n",
      " [ 0.  0.  0.]\n",
      " [ 0.  0.  0.]\n",
      " [ 0. 10.  0.]\n",
      " [ 0.  0.  0.]\n",
      " [ 0.  0.  0.]\n",
      " [ 0.  0.  0.]\n",
      " [ 0.  0.  0.]]\n"
     ]
    }
   ],
   "source": [
    "print(foces)"
   ]
  },
  {
   "cell_type": "code",
   "execution_count": null,
   "id": "c433d821",
   "metadata": {},
   "outputs": [],
   "source": []
  }
 ],
 "metadata": {
  "kernelspec": {
   "display_name": "venv3.7-intel",
   "language": "python",
   "name": "venv3.7-intel"
  },
  "language_info": {
   "codemirror_mode": {
    "name": "ipython",
    "version": 3
   },
   "file_extension": ".py",
   "mimetype": "text/x-python",
   "name": "python",
   "nbconvert_exporter": "python",
   "pygments_lexer": "ipython3",
   "version": "3.7.9"
  }
 },
 "nbformat": 4,
 "nbformat_minor": 5
}
