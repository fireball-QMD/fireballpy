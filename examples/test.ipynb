{
 "cells": [
  {
   "cell_type": "code",
   "execution_count": 1,
   "id": "c163131f",
   "metadata": {},
   "outputs": [],
   "source": [
    "import sys\n",
    "sys.path.append(\"..\")\n",
    "from fireballpy import Fireball\n",
    "from ase.io import read"
   ]
  },
  {
   "cell_type": "code",
   "execution_count": 2,
   "id": "8daafb4e",
   "metadata": {},
   "outputs": [],
   "source": [
    "atoms = read(\"input.xyz\")\n",
    "atoms.calc = Fireball()"
   ]
  },
  {
   "cell_type": "code",
   "execution_count": 3,
   "id": "ca8a96d2",
   "metadata": {},
   "outputs": [],
   "source": [
    "ETOT=atoms.get_potential_energy()"
   ]
  },
  {
   "cell_type": "code",
   "execution_count": 4,
   "id": "af120d21",
   "metadata": {},
   "outputs": [
    {
     "name": "stdout",
     "output_type": "stream",
     "text": [
      "ETOT = -211.4897918701172\n"
     ]
    }
   ],
   "source": [
    "print(\"ETOT =\",ETOT)"
   ]
  },
  {
   "cell_type": "code",
   "execution_count": 5,
   "id": "86ac1ed7",
   "metadata": {},
   "outputs": [
    {
     "name": "stdout",
     "output_type": "stream",
     "text": [
      "------atoms.charges-----------\n",
      "[[1.17514551 3.378685  ]\n",
      " [0.81522077 0.        ]\n",
      " [0.87698293 0.        ]\n",
      " [0.87698293 0.        ]\n",
      " [0.87698293 0.        ]]\n"
     ]
    }
   ],
   "source": [
    "charge=atoms.get_charges()\n",
    "print(\"------atoms.charges-----------\")\n",
    "print(charge)\n",
    "#for c in charge:\n",
    "#  print(c)"
   ]
  },
  {
   "cell_type": "code",
   "execution_count": 11,
   "id": "3eb8afcd",
   "metadata": {},
   "outputs": [
    {
     "name": "stdout",
     "output_type": "stream",
     "text": [
      "------atoms.forces------------\n",
      "[4.63551044 4.63551044 4.63551044]\n",
      "[2.13428283 2.13428283 2.13428283]\n",
      "[-2.53685236 -2.11647058 -2.11647058]\n",
      "[-2.11647058 -2.53685236 -2.11647058]\n",
      "[-2.11647058 -2.11647058 -2.53685236]\n"
     ]
    }
   ],
   "source": [
    "force=atoms.get_forces()\n",
    "print(\"------atoms.forces------------\")\n",
    "for f in force:\n",
    "  print(f)\n"
   ]
  },
  {
   "cell_type": "code",
   "execution_count": null,
   "id": "8e70a78a",
   "metadata": {},
   "outputs": [],
   "source": []
  },
  {
   "cell_type": "code",
   "execution_count": null,
   "id": "9ef40a25",
   "metadata": {},
   "outputs": [],
   "source": []
  }
 ],
 "metadata": {
  "kernelspec": {
   "display_name": "Python 3",
   "language": "python",
   "name": "python3"
  },
  "language_info": {
   "codemirror_mode": {
    "name": "ipython",
    "version": 3
   },
   "file_extension": ".py",
   "mimetype": "text/x-python",
   "name": "python",
   "nbconvert_exporter": "python",
   "pygments_lexer": "ipython3",
   "version": "3.8.10"
  }
 },
 "nbformat": 4,
 "nbformat_minor": 5
}
