{
 "cells": [
  {
   "cell_type": "code",
   "execution_count": 1,
   "id": "c163131f",
   "metadata": {},
   "outputs": [],
   "source": [
    "from ase.io import read\n",
    "from fireballpy import Fireball\n",
    "\n",
    "atoms = read(\"/home/dani/fireballpy/test/input.xyz\")\n",
    "atoms.calc = Fireball(fdata_path=\"/home/dani/Fdata_HC-new/\")\n",
    "\n"
   ]
  },
  {
   "cell_type": "code",
   "execution_count": 2,
   "id": "3eb8afcd",
   "metadata": {},
   "outputs": [
    {
     "name": "stdout",
     "output_type": "stream",
     "text": [
      "      1.06487367    2.78622435    0.19226561\n",
      "      0.92242015    0.02417989\n",
      "      0.99328238    0.01006288\n",
      "      0.99328240    0.01006291\n",
      "      0.99328281    0.01006295\n"
     ]
    },
    {
     "data": {
      "text/plain": [
       "array([4.04336363, 0.94660005, 1.00334526, 1.00334531, 1.00334576])"
      ]
     },
     "execution_count": 2,
     "metadata": {},
     "output_type": "execute_result"
    }
   ],
   "source": [
    "atoms.get_charges()\n"
   ]
  },
  {
   "cell_type": "code",
   "execution_count": 4,
   "id": "ca8a96d2",
   "metadata": {},
   "outputs": [
    {
     "name": "stdout",
     "output_type": "stream",
     "text": [
      "   Kscf =   8; sigma =0.0000000042; scf_achieved =T\n",
      "  ---------- T H E  T O T A L  E N E R G Y ----------- \n",
      "   \n",
      "             ebs =      -79.767209\n",
      "       uii - uee =     -159.733109\n",
      "       etotxc_1c =       22.037052\n",
      "       etotxc_1c =       24.583027\n",
      "            ETOT =     -214.917290\n",
      "       Etot/atom =      -42.983458\n",
      "   Atomic Energy =        0.000000\n",
      "       CohesiveE =     -214.917290\n",
      "     Fermi Level =       -0.420763\n",
      "   \n",
      "   Cohesive Energy per atom  =      -42.983458\n",
      "  ----------------------------------------------------- \n"
     ]
    },
    {
     "data": {
      "text/plain": [
       "-214.91729034336024"
      ]
     },
     "execution_count": 4,
     "metadata": {},
     "output_type": "execute_result"
    }
   ],
   "source": [
    "atoms.get_potential_energy()"
   ]
  },
  {
   "cell_type": "code",
   "execution_count": 5,
   "id": "69aea174",
   "metadata": {},
   "outputs": [
    {
     "name": "stdout",
     "output_type": "stream",
     "text": [
      "   Kscf =   8; sigma =0.0000000042; scf_achieved =T\n",
      "  ---------- T H E  T O T A L  E N E R G Y ----------- \n",
      "   \n",
      "             ebs =      -79.767209\n",
      "       uii - uee =     -159.733109\n"
     ]
    },
    {
     "name": "stderr",
     "output_type": "stream",
     "text": [
      "/home/dani/fireballpy/test/fireballpy.py:67: UserWarning: Energies not computed. Computing energies\n",
      "  UserWarning)\n"
     ]
    },
    {
     "data": {
      "text/plain": [
       "array([[ 3.36838359,  3.36838192,  3.36838809],\n",
       "       [ 1.6870016 ,  1.68700188,  1.68699881],\n",
       "       [-1.86120502, -1.59708746, -1.59709139],\n",
       "       [-1.59708752, -1.86120253, -1.59709472],\n",
       "       [-1.59709266, -1.59709381, -1.8612008 ]])"
      ]
     },
     "execution_count": 5,
     "metadata": {},
     "output_type": "execute_result"
    },
    {
     "name": "stdout",
     "output_type": "stream",
     "text": [
      "       etotxc_1c =       22.037052\n",
      "       etotxc_1c =       24.583027\n",
      "            ETOT =     -214.917290\n",
      "       Etot/atom =      -42.983458\n",
      "   Atomic Energy =        0.000000\n",
      "       CohesiveE =     -214.917290\n",
      "     Fermi Level =       -0.420763\n",
      "   \n",
      "   Cohesive Energy per atom  =      -42.983458\n",
      "  ----------------------------------------------------- \n",
      "  The grand total force (eV/A): \n",
      "   iatom =    1 ftot      =   0.336838E+01  0.336838E+01  0.336839E+01\n",
      "   iatom =    2 ftot      =   0.168700E+01  0.168700E+01  0.168700E+01\n",
      "   iatom =    3 ftot      =  -0.186121E+01 -0.159709E+01 -0.159709E+01\n",
      "   iatom =    4 ftot      =  -0.159709E+01 -0.186120E+01 -0.159709E+01\n",
      "   iatom =    5 ftot      =  -0.159709E+01 -0.159709E+01 -0.186120E+01\n"
     ]
    }
   ],
   "source": [
    "atoms.get_forces()"
   ]
  },
  {
   "cell_type": "code",
   "execution_count": null,
   "id": "075bfb02",
   "metadata": {},
   "outputs": [],
   "source": []
  }
 ],
 "metadata": {
  "kernelspec": {
   "display_name": "venv3.7-intel",
   "language": "python",
   "name": "venv3.7-intel"
  },
  "language_info": {
   "codemirror_mode": {
    "name": "ipython",
    "version": 3
   },
   "file_extension": ".py",
   "mimetype": "text/x-python",
   "name": "python",
   "nbconvert_exporter": "python",
   "pygments_lexer": "ipython3",
   "version": "3.7.9"
  }
 },
 "nbformat": 4,
 "nbformat_minor": 5
}
