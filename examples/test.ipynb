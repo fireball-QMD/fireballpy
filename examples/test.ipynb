{
 "cells": [
  {
   "cell_type": "code",
   "execution_count": 1,
   "id": "c163131f",
   "metadata": {},
   "outputs": [],
   "source": [
    "import sys\n",
    "import os\n",
    "sys.path.append(\"/home/dani/fireballpy/fireballpy/\")\n",
    "from fireballpy import Fireball\n",
    "from ase.io import read"
   ]
  },
  {
   "cell_type": "code",
   "execution_count": 2,
   "id": "8daafb4e",
   "metadata": {},
   "outputs": [],
   "source": [
    "atoms = read(\"/home/dani/fireballpy/test/input.xyz\")\n",
    "atoms.calc = Fireball(fdata_path=\"/home/dani/Fdata_HC-new/\")"
   ]
  },
  {
   "cell_type": "code",
   "execution_count": 3,
   "id": "ca8a96d2",
   "metadata": {},
   "outputs": [
    {
     "name": "stdout",
     "output_type": "stream",
     "text": [
      "-214.91729736328125\n"
     ]
    }
   ],
   "source": [
    "ETOT=atoms.get_potential_energy()\n",
    "print(ETOT)"
   ]
  },
  {
   "cell_type": "code",
   "execution_count": null,
   "id": "3eb8afcd",
   "metadata": {},
   "outputs": [],
   "source": [
    "atoms.get_charges()\n",
    "atoms.get_potential_energy()\n",
    "atoms.get_forces()\n"
   ]
  },
  {
   "cell_type": "code",
   "execution_count": null,
   "id": "69aea174",
   "metadata": {},
   "outputs": [],
   "source": [
    "atoms.get_forces()"
   ]
  },
  {
   "cell_type": "code",
   "execution_count": null,
   "id": "075bfb02",
   "metadata": {},
   "outputs": [],
   "source": []
  }
 ],
 "metadata": {
  "kernelspec": {
   "display_name": "venv3.7-intel",
   "language": "python",
   "name": "venv3.7-intel"
  },
  "language_info": {
   "codemirror_mode": {
    "name": "ipython",
    "version": 3
   },
   "file_extension": ".py",
   "mimetype": "text/x-python",
   "name": "python",
   "nbconvert_exporter": "python",
   "pygments_lexer": "ipython3",
   "version": "3.7.9"
  }
 },
 "nbformat": 4,
 "nbformat_minor": 5
}
