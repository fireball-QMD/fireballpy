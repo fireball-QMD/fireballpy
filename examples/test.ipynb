{
 "cells": [
  {
   "cell_type": "code",
   "execution_count": 1,
   "id": "c163131f",
   "metadata": {},
   "outputs": [],
   "source": [
    "import sys\n",
    "sys.path.append(\"..\")\n",
    "from fireballpy import Fireball\n",
    "from ase.io import read"
   ]
  },
  {
   "cell_type": "code",
   "execution_count": 2,
   "id": "8daafb4e",
   "metadata": {},
   "outputs": [],
   "source": [
    "atoms = read(\"input.xyz\")\n",
    "atoms.calc = Fireball()"
   ]
  },
  {
   "cell_type": "code",
   "execution_count": 3,
   "id": "ca8a96d2",
   "metadata": {},
   "outputs": [
    {
     "name": "stdout",
     "output_type": "stream",
     "text": [
      "   EBS =      -86.325363 ; Kscf =   1 ; sigma =0.7032531286\n",
      "   EBS =      -85.349226 ; Kscf =   2 ; sigma =0.6267393232\n",
      "   EBS =      -71.237392 ; Kscf =   3 ; sigma =0.0199099731\n",
      "   EBS =      -71.923123 ; Kscf =   4 ; sigma =0.0162023626\n",
      "   EBS =      -74.856191 ; Kscf =   5 ; sigma =0.0000091974\n",
      "   EBS =      -74.861009 ; Kscf =   6 ; sigma =0.0000078584\n",
      "   EBS =      -74.837389 ; Kscf =   7 ; sigma =0.0000030467\n",
      "   EBS =      -74.799083 ; Kscf =   8 ; sigma =0.0000000054\n"
     ]
    }
   ],
   "source": [
    "ETOT=atoms.get_potential_energy()"
   ]
  },
  {
   "cell_type": "code",
   "execution_count": 4,
   "id": "af120d21",
   "metadata": {},
   "outputs": [
    {
     "name": "stdout",
     "output_type": "stream",
     "text": [
      "ETOT = -211.4897003173828\n"
     ]
    }
   ],
   "source": [
    "print(\"ETOT =\",ETOT)"
   ]
  },
  {
   "cell_type": "code",
   "execution_count": 5,
   "id": "86ac1ed7",
   "metadata": {},
   "outputs": [
    {
     "name": "stdout",
     "output_type": "stream",
     "text": [
      "------atoms.charges-----------\n",
      "[1.17506731 3.3786602 ]\n",
      "[8.15296292e-001 6.90012172e-310]\n",
      "[8.76992047e-001 6.90012172e-310]\n",
      "[8.76992047e-001 6.90012172e-310]\n",
      "[8.76992047e-001 6.90012172e-310]\n"
     ]
    }
   ],
   "source": [
    "charge=atoms.get_charges()\n",
    "print(\"------atoms.charges-----------\")\n",
    "for c in charge:\n",
    "  print(c)"
   ]
  },
  {
   "cell_type": "code",
   "execution_count": 7,
   "id": "3eb8afcd",
   "metadata": {},
   "outputs": [
    {
     "name": "stdout",
     "output_type": "stream",
     "text": [
      "------atoms.forces------------\n",
      "[4.63579273 4.63579273 4.63579273]\n",
      "[2.13388157 2.13388157 2.13388157]\n",
      "[-2.53655553 -2.11655927 -2.11655927]\n",
      "[-2.11655927 -2.53655553 -2.11655927]\n",
      "[-2.11655951 -2.11655951 -2.53655529]\n"
     ]
    }
   ],
   "source": [
    "force=atoms.get_forces()\n",
    "print(\"------atoms.forces------------\")\n",
    "for f in force:\n",
    "  print(f)\n"
   ]
  },
  {
   "cell_type": "code",
   "execution_count": null,
   "id": "8e70a78a",
   "metadata": {},
   "outputs": [],
   "source": []
  }
 ],
 "metadata": {
  "kernelspec": {
   "display_name": "Python 3",
   "language": "python",
   "name": "python3"
  },
  "language_info": {
   "codemirror_mode": {
    "name": "ipython",
    "version": 3
   },
   "file_extension": ".py",
   "mimetype": "text/x-python",
   "name": "python",
   "nbconvert_exporter": "python",
   "pygments_lexer": "ipython3",
   "version": "3.7.12"
  }
 },
 "nbformat": 4,
 "nbformat_minor": 5
}
