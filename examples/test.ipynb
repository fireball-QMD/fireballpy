{
 "cells": [
  {
   "cell_type": "code",
   "execution_count": 1,
   "id": "c163131f",
   "metadata": {},
   "outputs": [],
   "source": [
    "import sys\n",
    "import os\n",
    "sys.path.append(\"/home/dani/fireballpy/fireballpy/\")\n",
    "from fireballpy import Fireball\n",
    "from ase.io import read"
   ]
  },
  {
   "cell_type": "code",
   "execution_count": 2,
   "id": "8daafb4e",
   "metadata": {},
   "outputs": [],
   "source": [
    "atoms = read(\"/home/dani/fireballpy/test/input.xyz\")\n",
    "atoms.calc = Fireball(fdata_path=\"/home/dani/Fdata_HC-new/\")"
   ]
  },
  {
   "cell_type": "code",
   "execution_count": 3,
   "id": "ca8a96d2",
   "metadata": {},
   "outputs": [
    {
     "name": "stdout",
     "output_type": "stream",
     "text": [
      "   EBS =      -78.808430 ; Kscf =   1 ; sigma =0.1399451553\n",
      "   EBS =      -78.853384 ; Kscf =   2 ; sigma =0.1289751312\n",
      "   EBS =      -79.928406 ; Kscf =   3 ; sigma =0.0000209456\n",
      "   EBS =      -79.784988 ; Kscf =   4 ; sigma =0.0000026691\n",
      "   EBS =      -79.756006 ; Kscf =   5 ; sigma =0.0000017627\n",
      "   EBS =      -79.763168 ; Kscf =   6 ; sigma =0.0000000317\n",
      "   EBS =      -79.767209 ; Kscf =   7 ; sigma =0.0000000042\n"
     ]
    }
   ],
   "source": [
    "ETOT=atoms.get_potential_energy()"
   ]
  },
  {
   "cell_type": "code",
   "execution_count": 4,
   "id": "af120d21",
   "metadata": {},
   "outputs": [
    {
     "name": "stdout",
     "output_type": "stream",
     "text": [
      "ETOT = -214.91729736328125\n"
     ]
    }
   ],
   "source": [
    "print(\"ETOT =\",ETOT)"
   ]
  },
  {
   "cell_type": "code",
   "execution_count": 5,
   "id": "86ac1ed7",
   "metadata": {},
   "outputs": [
    {
     "name": "stdout",
     "output_type": "stream",
     "text": [
      "------atoms.charges-----------\n",
      "[1.0648736953735352, 2.786224365234375, 0.1922656148672104]\n",
      "[0.9224201440811157, 0.024179894477128983]\n",
      "[0.9932823777198792, 0.010062876157462597]\n",
      "[0.9932823777198792, 0.010062912479043007]\n",
      "[0.9932827949523926, 0.010062948800623417]\n"
     ]
    }
   ],
   "source": [
    "charge=atoms.get_charges()\n",
    "print(\"------atoms.charges-----------\")\n",
    "for c in charge:\n",
    "  print(c)"
   ]
  },
  {
   "cell_type": "code",
   "execution_count": 6,
   "id": "3eb8afcd",
   "metadata": {},
   "outputs": [
    {
     "name": "stdout",
     "output_type": "stream",
     "text": [
      "------atoms.forces------------\n",
      "[3.36838365 3.36838198 3.36838818]\n",
      "[1.68700159 1.68700182 1.68699884]\n",
      "[-1.86120498 -1.5970875  -1.59709144]\n",
      "[-1.5970875  -1.86120248 -1.59709477]\n",
      "[-1.59709263 -1.59709382 -1.86120081]\n"
     ]
    }
   ],
   "source": [
    "force=atoms.get_forces()\n",
    "print(\"------atoms.forces------------\")\n",
    "for f in force:\n",
    "  print(f)\n"
   ]
  },
  {
   "cell_type": "code",
   "execution_count": null,
   "id": "8e70a78a",
   "metadata": {},
   "outputs": [],
   "source": []
  }
 ],
 "metadata": {
  "kernelspec": {
   "display_name": "venv3.7-intel",
   "language": "python",
   "name": "venv3.7-intel"
  },
  "language_info": {
   "codemirror_mode": {
    "name": "ipython",
    "version": 3
   },
   "file_extension": ".py",
   "mimetype": "text/x-python",
   "name": "python",
   "nbconvert_exporter": "python",
   "pygments_lexer": "ipython3",
   "version": "3.7.9"
  }
 },
 "nbformat": 4,
 "nbformat_minor": 5
}
