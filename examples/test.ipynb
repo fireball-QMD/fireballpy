{
 "cells": [
  {
   "cell_type": "code",
   "execution_count": 1,
   "id": "c163131f",
   "metadata": {},
   "outputs": [],
   "source": [
    "import sys\n",
    "import numpy as np\n",
    "sys.path.append(\"..\")\n",
    "from fireballpy import Fireball\n",
    "from ase import Atoms"
   ]
  },
  {
   "cell_type": "code",
   "execution_count": 2,
   "id": "8daafb4e",
   "metadata": {},
   "outputs": [],
   "source": [
    "atoms = Atoms(symbols=['C', 'H', 'H', 'H', 'H'],\n",
    "            positions=[( 0.0000, 0.0000, 0.0000),\n",
    "                       ( 0.6533, 0.6533, 0.6533),\n",
    "                       (-0.6533, 0.6533, 0.6533),\n",
    "                       ( 0.6533, -0.6533, 0.6533),\n",
    "                       ( 0.6533, 0.6533, -0.6533)])"
   ]
  },
  {
   "cell_type": "code",
   "execution_count": 3,
   "id": "ca8a96d2",
   "metadata": {},
   "outputs": [],
   "source": [
    "atoms.calc = Fireball(charges_method='Mulliken-dipole-preserving', options='molecule')"
   ]
  },
  {
   "cell_type": "code",
   "execution_count": 4,
   "id": "af120d21",
   "metadata": {},
   "outputs": [
    {
     "name": "stdout",
     "output_type": "stream",
     "text": [
      "-211.70370382918276\n"
     ]
    }
   ],
   "source": [
    "ETOT=atoms.get_potential_energy()\n",
    "print(ETOT)"
   ]
  },
  {
   "cell_type": "code",
   "execution_count": 5,
   "id": "86ac1ed7",
   "metadata": {},
   "outputs": [
    {
     "name": "stdout",
     "output_type": "stream",
     "text": [
      "------atoms.charges-----------\n",
      "[4.4692962  0.5884139  0.98076324 0.98076324 0.98076341]\n"
     ]
    }
   ],
   "source": [
    "charge=atoms.get_charges()\n",
    "print(\"------atoms.charges-----------\")\n",
    "print(charge)\n",
    "#for c in charge:\n",
    "#  print(c)"
   ]
  },
  {
   "cell_type": "code",
   "execution_count": 6,
   "id": "3eb8afcd",
   "metadata": {},
   "outputs": [
    {
     "name": "stdout",
     "output_type": "stream",
     "text": [
      "------atoms.forces------------\n",
      "[4.93096081 4.93096081 4.93096061]\n",
      "[2.39933365 2.39933365 2.39933357]\n",
      "[-2.86792482 -2.23118486 -2.23118471]\n",
      "[-2.23118486 -2.86792482 -2.23118471]\n",
      "[-2.23118477 -2.23118477 -2.86792475]\n"
     ]
    }
   ],
   "source": [
    "force=atoms.get_forces()\n",
    "print(\"------atoms.forces------------\")\n",
    "for f in force:\n",
    "  print(f)\n"
   ]
  },
  {
   "cell_type": "code",
   "execution_count": null,
   "id": "8e70a78a",
   "metadata": {},
   "outputs": [],
   "source": []
  },
  {
   "cell_type": "code",
   "execution_count": null,
   "id": "9ef40a25",
   "metadata": {},
   "outputs": [],
   "source": []
  }
 ],
 "metadata": {
  "kernelspec": {
   "display_name": "python_fireballpy",
   "language": "python",
   "name": "python_fireballpy"
  },
  "language_info": {
   "codemirror_mode": {
    "name": "ipython",
    "version": 3
   },
   "file_extension": ".py",
   "mimetype": "text/x-python",
   "name": "python",
   "nbconvert_exporter": "python",
   "pygments_lexer": "ipython3",
   "version": "3.8.10"
  }
 },
 "nbformat": 4,
 "nbformat_minor": 5
}
