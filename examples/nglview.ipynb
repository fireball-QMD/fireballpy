{
 "cells": [
  {
   "cell_type": "code",
   "execution_count": 5,
   "id": "e0d41522",
   "metadata": {},
   "outputs": [],
   "source": [
    "import nglview as nv\n",
    "from ase.io.trajectory import Trajectory\n",
    "traj = Trajectory('dinamic.traj')\n",
    "view = nv.show_asetraj(traj)"
   ]
  },
  {
   "cell_type": "code",
   "execution_count": 6,
   "id": "85e4f8ac",
   "metadata": {},
   "outputs": [
    {
     "data": {
      "application/vnd.jupyter.widget-view+json": {
       "model_id": "559da18e9f3b4e8d9fb65d5417ee8f45",
       "version_major": 2,
       "version_minor": 0
      },
      "text/plain": [
       "NGLWidget(max_frame=1000)"
      ]
     },
     "metadata": {},
     "output_type": "display_data"
    }
   ],
   "source": [
    "view"
   ]
  },
  {
   "cell_type": "code",
   "execution_count": null,
   "id": "b24b4d91",
   "metadata": {},
   "outputs": [],
   "source": []
  }
 ],
 "metadata": {
  "kernelspec": {
   "display_name": "venv3.7-intel",
   "language": "python",
   "name": "venv3.7-intel"
  },
  "language_info": {
   "codemirror_mode": {
    "name": "ipython",
    "version": 3
   },
   "file_extension": ".py",
   "mimetype": "text/x-python",
   "name": "python",
   "nbconvert_exporter": "python",
   "pygments_lexer": "ipython3",
   "version": "3.7.9"
  }
 },
 "nbformat": 4,
 "nbformat_minor": 5
}
